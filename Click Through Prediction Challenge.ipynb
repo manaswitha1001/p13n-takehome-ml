{
 "cells": [
  {
   "cell_type": "markdown",
   "metadata": {},
   "source": [
    "The Click through Prediction is a binary classification Problem.\n",
    "THe following methods Logistic Regression, Random Forest, Gradient Boosting are used to predict \n",
    "the probabilities wheather an ad is clicked or not "
   ]
  },
  {
   "cell_type": "code",
   "execution_count": 41,
   "metadata": {},
   "outputs": [],
   "source": [
    "import pandas as pd\n",
    "import numpy as np\n",
    "import seaborn as sns\n",
    "import matplotlib.pyplot as plt"
   ]
  },
  {
   "cell_type": "markdown",
   "metadata": {},
   "source": [
    "# importing data files"
   ]
  },
  {
   "cell_type": "code",
   "execution_count": 2,
   "metadata": {},
   "outputs": [],
   "source": [
    "data = pd.read_csv('./sampled_training.txt',header=None)"
   ]
  },
  {
   "cell_type": "code",
   "execution_count": 3,
   "metadata": {},
   "outputs": [],
   "source": [
    "test = pd.read_csv('./sampled_test.txt',header=None)"
   ]
  },
  {
   "cell_type": "code",
   "execution_count": 5,
   "metadata": {},
   "outputs": [
    {
     "data": {
      "text/plain": [
       "(843502, 24)"
      ]
     },
     "execution_count": 5,
     "metadata": {},
     "output_type": "execute_result"
    }
   ],
   "source": [
    "data.shape"
   ]
  },
  {
   "cell_type": "code",
   "execution_count": 7,
   "metadata": {},
   "outputs": [
    {
     "data": {
      "text/html": [
       "<div>\n",
       "<style scoped>\n",
       "    .dataframe tbody tr th:only-of-type {\n",
       "        vertical-align: middle;\n",
       "    }\n",
       "\n",
       "    .dataframe tbody tr th {\n",
       "        vertical-align: top;\n",
       "    }\n",
       "\n",
       "    .dataframe thead th {\n",
       "        text-align: right;\n",
       "    }\n",
       "</style>\n",
       "<table border=\"1\" class=\"dataframe\">\n",
       "  <thead>\n",
       "    <tr style=\"text-align: right;\">\n",
       "      <th></th>\n",
       "      <th>0</th>\n",
       "      <th>1</th>\n",
       "      <th>2</th>\n",
       "      <th>3</th>\n",
       "      <th>4</th>\n",
       "      <th>14</th>\n",
       "      <th>15</th>\n",
       "      <th>16</th>\n",
       "      <th>17</th>\n",
       "      <th>18</th>\n",
       "      <th>19</th>\n",
       "      <th>20</th>\n",
       "      <th>21</th>\n",
       "      <th>22</th>\n",
       "      <th>23</th>\n",
       "    </tr>\n",
       "  </thead>\n",
       "  <tbody>\n",
       "    <tr>\n",
       "      <th>count</th>\n",
       "      <td>8.435020e+05</td>\n",
       "      <td>843502.000000</td>\n",
       "      <td>8.435020e+05</td>\n",
       "      <td>843502.000000</td>\n",
       "      <td>843502.000000</td>\n",
       "      <td>843502.000000</td>\n",
       "      <td>843502.000000</td>\n",
       "      <td>843502.000000</td>\n",
       "      <td>843502.000000</td>\n",
       "      <td>843502.000000</td>\n",
       "      <td>843502.000000</td>\n",
       "      <td>843502.000000</td>\n",
       "      <td>843502.000000</td>\n",
       "      <td>843502.000000</td>\n",
       "      <td>843502.000000</td>\n",
       "    </tr>\n",
       "    <tr>\n",
       "      <th>mean</th>\n",
       "      <td>9.231625e+18</td>\n",
       "      <td>0.170271</td>\n",
       "      <td>1.410250e+07</td>\n",
       "      <td>1004.959553</td>\n",
       "      <td>0.293501</td>\n",
       "      <td>1.016934</td>\n",
       "      <td>0.330417</td>\n",
       "      <td>18560.262501</td>\n",
       "      <td>318.861537</td>\n",
       "      <td>60.286297</td>\n",
       "      <td>2077.663483</td>\n",
       "      <td>1.443956</td>\n",
       "      <td>217.741979</td>\n",
       "      <td>54155.776171</td>\n",
       "      <td>79.551913</td>\n",
       "    </tr>\n",
       "    <tr>\n",
       "      <th>std</th>\n",
       "      <td>5.325619e+18</td>\n",
       "      <td>0.375871</td>\n",
       "      <td>2.684486e+02</td>\n",
       "      <td>1.132949</td>\n",
       "      <td>0.515961</td>\n",
       "      <td>0.553377</td>\n",
       "      <td>0.854515</td>\n",
       "      <td>5007.778987</td>\n",
       "      <td>21.730624</td>\n",
       "      <td>47.965820</td>\n",
       "      <td>610.749820</td>\n",
       "      <td>1.323114</td>\n",
       "      <td>342.722108</td>\n",
       "      <td>49887.241496</td>\n",
       "      <td>66.999613</td>\n",
       "    </tr>\n",
       "    <tr>\n",
       "      <th>min</th>\n",
       "      <td>1.308118e+13</td>\n",
       "      <td>0.000000</td>\n",
       "      <td>1.410210e+07</td>\n",
       "      <td>1001.000000</td>\n",
       "      <td>0.000000</td>\n",
       "      <td>0.000000</td>\n",
       "      <td>0.000000</td>\n",
       "      <td>375.000000</td>\n",
       "      <td>120.000000</td>\n",
       "      <td>20.000000</td>\n",
       "      <td>112.000000</td>\n",
       "      <td>0.000000</td>\n",
       "      <td>33.000000</td>\n",
       "      <td>-1.000000</td>\n",
       "      <td>1.000000</td>\n",
       "    </tr>\n",
       "    <tr>\n",
       "      <th>25%</th>\n",
       "      <td>4.622961e+18</td>\n",
       "      <td>0.000000</td>\n",
       "      <td>1.410222e+07</td>\n",
       "      <td>1005.000000</td>\n",
       "      <td>0.000000</td>\n",
       "      <td>1.000000</td>\n",
       "      <td>0.000000</td>\n",
       "      <td>16688.000000</td>\n",
       "      <td>320.000000</td>\n",
       "      <td>50.000000</td>\n",
       "      <td>1800.000000</td>\n",
       "      <td>0.000000</td>\n",
       "      <td>35.000000</td>\n",
       "      <td>-1.000000</td>\n",
       "      <td>23.000000</td>\n",
       "    </tr>\n",
       "    <tr>\n",
       "      <th>50%</th>\n",
       "      <td>9.238306e+18</td>\n",
       "      <td>0.000000</td>\n",
       "      <td>1.410251e+07</td>\n",
       "      <td>1005.000000</td>\n",
       "      <td>0.000000</td>\n",
       "      <td>1.000000</td>\n",
       "      <td>0.000000</td>\n",
       "      <td>20108.000000</td>\n",
       "      <td>320.000000</td>\n",
       "      <td>50.000000</td>\n",
       "      <td>2295.000000</td>\n",
       "      <td>2.000000</td>\n",
       "      <td>39.000000</td>\n",
       "      <td>100057.000000</td>\n",
       "      <td>52.000000</td>\n",
       "    </tr>\n",
       "    <tr>\n",
       "      <th>75%</th>\n",
       "      <td>1.384568e+19</td>\n",
       "      <td>0.000000</td>\n",
       "      <td>1.410272e+07</td>\n",
       "      <td>1005.000000</td>\n",
       "      <td>1.000000</td>\n",
       "      <td>1.000000</td>\n",
       "      <td>0.000000</td>\n",
       "      <td>21768.000000</td>\n",
       "      <td>320.000000</td>\n",
       "      <td>50.000000</td>\n",
       "      <td>2506.000000</td>\n",
       "      <td>3.000000</td>\n",
       "      <td>167.000000</td>\n",
       "      <td>100084.000000</td>\n",
       "      <td>91.000000</td>\n",
       "    </tr>\n",
       "    <tr>\n",
       "      <th>max</th>\n",
       "      <td>1.844669e+19</td>\n",
       "      <td>1.000000</td>\n",
       "      <td>1.410300e+07</td>\n",
       "      <td>1012.000000</td>\n",
       "      <td>7.000000</td>\n",
       "      <td>5.000000</td>\n",
       "      <td>5.000000</td>\n",
       "      <td>23836.000000</td>\n",
       "      <td>1024.000000</td>\n",
       "      <td>1024.000000</td>\n",
       "      <td>2729.000000</td>\n",
       "      <td>3.000000</td>\n",
       "      <td>1839.000000</td>\n",
       "      <td>100248.000000</td>\n",
       "      <td>253.000000</td>\n",
       "    </tr>\n",
       "  </tbody>\n",
       "</table>\n",
       "</div>"
      ],
      "text/plain": [
       "                 0              1             2              3   \\\n",
       "count  8.435020e+05  843502.000000  8.435020e+05  843502.000000   \n",
       "mean   9.231625e+18       0.170271  1.410250e+07    1004.959553   \n",
       "std    5.325619e+18       0.375871  2.684486e+02       1.132949   \n",
       "min    1.308118e+13       0.000000  1.410210e+07    1001.000000   \n",
       "25%    4.622961e+18       0.000000  1.410222e+07    1005.000000   \n",
       "50%    9.238306e+18       0.000000  1.410251e+07    1005.000000   \n",
       "75%    1.384568e+19       0.000000  1.410272e+07    1005.000000   \n",
       "max    1.844669e+19       1.000000  1.410300e+07    1012.000000   \n",
       "\n",
       "                  4              14             15             16  \\\n",
       "count  843502.000000  843502.000000  843502.000000  843502.000000   \n",
       "mean        0.293501       1.016934       0.330417   18560.262501   \n",
       "std         0.515961       0.553377       0.854515    5007.778987   \n",
       "min         0.000000       0.000000       0.000000     375.000000   \n",
       "25%         0.000000       1.000000       0.000000   16688.000000   \n",
       "50%         0.000000       1.000000       0.000000   20108.000000   \n",
       "75%         1.000000       1.000000       0.000000   21768.000000   \n",
       "max         7.000000       5.000000       5.000000   23836.000000   \n",
       "\n",
       "                  17             18             19             20  \\\n",
       "count  843502.000000  843502.000000  843502.000000  843502.000000   \n",
       "mean      318.861537      60.286297    2077.663483       1.443956   \n",
       "std        21.730624      47.965820     610.749820       1.323114   \n",
       "min       120.000000      20.000000     112.000000       0.000000   \n",
       "25%       320.000000      50.000000    1800.000000       0.000000   \n",
       "50%       320.000000      50.000000    2295.000000       2.000000   \n",
       "75%       320.000000      50.000000    2506.000000       3.000000   \n",
       "max      1024.000000    1024.000000    2729.000000       3.000000   \n",
       "\n",
       "                  21             22             23  \n",
       "count  843502.000000  843502.000000  843502.000000  \n",
       "mean      217.741979   54155.776171      79.551913  \n",
       "std       342.722108   49887.241496      66.999613  \n",
       "min        33.000000      -1.000000       1.000000  \n",
       "25%        35.000000      -1.000000      23.000000  \n",
       "50%        39.000000  100057.000000      52.000000  \n",
       "75%       167.000000  100084.000000      91.000000  \n",
       "max      1839.000000  100248.000000     253.000000  "
      ]
     },
     "execution_count": 7,
     "metadata": {},
     "output_type": "execute_result"
    }
   ],
   "source": [
    "data.describe()"
   ]
  },
  {
   "cell_type": "code",
   "execution_count": 8,
   "metadata": {},
   "outputs": [],
   "source": [
    "columns=['id','click','hour','C1','banner_pos','site_id','site_domain','site_category',\n",
    "         'app_id','app_domain','app_category','device_id','device_ip',\n",
    "         'device_model','device_type','device_conn_type','C14','C15','C16','C17','C18','C19','C20','C21']\n",
    "\n",
    "testcolumns=['id','hour','C1','banner_pos','site_id','site_domain','site_category',\n",
    "         'app_id','app_domain','app_category','device_id','device_ip',\n",
    "         'device_model','device_type','device_conn_type','C14','C15','C16','C17','C18','C19','C20','C21']"
   ]
  },
  {
   "cell_type": "code",
   "execution_count": 15,
   "metadata": {},
   "outputs": [],
   "source": [
    "data.columns=columns\n"
   ]
  },
  {
   "cell_type": "code",
   "execution_count": 16,
   "metadata": {},
   "outputs": [],
   "source": [
    "test.columns=testcolumns"
   ]
  },
  {
   "cell_type": "markdown",
   "metadata": {},
   "source": [
    "# Exploratory Data Analysis"
   ]
  },
  {
   "cell_type": "markdown",
   "metadata": {},
   "source": [
    "# Counts of clicks"
   ]
  },
  {
   "cell_type": "code",
   "execution_count": 42,
   "metadata": {},
   "outputs": [
    {
     "data": {
      "image/png": "[encoded data removed]",
      "text/plain": [
       "<Figure size 432x288 with 1 Axes>"
      ]
     },
     "metadata": {},
     "output_type": "display_data"
    }
   ],
   "source": [
    "\n",
    "sns.countplot(x='click',data=data, palette='hls')\n",
    "plt.show();"
   ]
  },
  {
   "cell_type": "markdown",
   "metadata": {},
   "source": [
    "Here 0 is denoted as nonclick and 1 is denotes click"
   ]
  },
  {
   "cell_type": "code",
   "execution_count": 43,
   "metadata": {},
   "outputs": [],
   "source": [
    "data['hour'] = pd.to_datetime(data['hour'], format='%y%m%d%H')"
   ]
  },
  {
   "cell_type": "markdown",
   "metadata": {},
   "source": [
    "# Number of Clicks by Hour"
   ]
  },
  {
   "cell_type": "code",
   "execution_count": 91,
   "metadata": {},
   "outputs": [
    {
     "data": {
      "image/png": "[encoded data removed]",
      "text/plain": [
       "<Figure size 864x432 with 1 Axes>"
      ]
     },
     "metadata": {},
     "output_type": "display_data"
    }
   ],
   "source": [
    "data['hour_of_day'] = data.hour.apply(lambda x: x.hour)\n",
    "data.groupby('hour_of_day').agg({'click':'sum'}).plot(figsize=(12,6))\n",
    "plt.ylabel('Number of clicks')\n",
    "plt.title('click trends by hour of day');"
   ]
  },
  {
   "cell_type": "markdown",
   "metadata": {},
   "source": [
    "As we can see the most number of clicks are done durin the noon period "
   ]
  },
  {
   "cell_type": "markdown",
   "metadata": {},
   "source": [
    "# Impressions Vs Clicks"
   ]
  },
  {
   "cell_type": "code",
   "execution_count": 46,
   "metadata": {},
   "outputs": [
    {
     "data": {
      "image/png": "[encoded data removed]",
      "text/plain": [
       "<Figure size 864x432 with 1 Axes>"
      ]
     },
     "metadata": {},
     "output_type": "display_data"
    }
   ],
   "source": [
    "data.groupby(['hour_of_day', 'click']).size().unstack().plot(kind='bar', title=\"Hour of Day\", figsize=(12,6))\n",
    "plt.ylabel('count')\n",
    "plt.title('Hourly impressions vs. clicks');"
   ]
  },
  {
   "cell_type": "markdown",
   "metadata": {},
   "source": [
    "# Hourly CTR Rate"
   ]
  },
  {
   "cell_type": "code",
   "execution_count": 47,
   "metadata": {},
   "outputs": [
    {
     "data": {
      "image/png": "[encoded data removed]",
      "text/plain": [
       "<Figure size 864x432 with 1 Axes>"
      ]
     },
     "metadata": {},
     "output_type": "display_data"
    }
   ],
   "source": [
    "import seaborn as sns\n",
    "df_click = data[data['click'] == 1]\n",
    "df_hour = data[['hour_of_day','click']].groupby(['hour_of_day']).count().reset_index()\n",
    "df_hour = df_hour.rename(columns={'click': 'impressions'})\n",
    "df_hour['clicks'] = df_click[['hour_of_day','click']].groupby(['hour_of_day']).count().reset_index()['click']\n",
    "df_hour['CTR'] = df_hour['clicks']/df_hour['impressions']*100\n",
    "plt.figure(figsize=(12,6))\n",
    "sns.barplot(y='CTR', x='hour_of_day', data=df_hour)\n",
    "plt.title('Hourly CTR');"
   ]
  },
  {
   "cell_type": "markdown",
   "metadata": {},
   "source": [
    "# Click Trends by Day of the Week"
   ]
  },
  {
   "cell_type": "code",
   "execution_count": 48,
   "metadata": {},
   "outputs": [
    {
     "data": {
      "image/png": "[encoded data removed]",
      "text/plain": [
       "<Figure size 864x432 with 1 Axes>"
      ]
     },
     "metadata": {},
     "output_type": "display_data"
    }
   ],
   "source": [
    "data['day_of_week'] = data['hour'].apply(lambda val: val.weekday_name)\n",
    "cats = ['Monday', 'Tuesday', 'Wednesday', 'Thursday', 'Friday', 'Saturday', 'Sunday']\n",
    "data.groupby('day_of_week').agg({'click':'sum'}).reindex(cats).plot(figsize=(12,6))\n",
    "ticks = list(range(0, 7, 1)) # points on the x axis where you want the label to appear\n",
    "labels = \"Mon Tues Weds Thurs Fri Sat Sun\".split()\n",
    "plt.xticks(ticks, labels)\n",
    "plt.title('click trends by day of week');"
   ]
  },
  {
   "cell_type": "code",
   "execution_count": 49,
   "metadata": {},
   "outputs": [
    {
     "data": {
      "image/png": "[encoded data removed]",
      "text/plain": [
       "<Figure size 864x432 with 1 Axes>"
      ]
     },
     "metadata": {},
     "output_type": "display_data"
    }
   ],
   "source": [
    "df_click = data[data['click'] == 1]\n",
    "df_dayofweek = data[['day_of_week','click']].groupby(['day_of_week']).count().reset_index()\n",
    "df_dayofweek = df_dayofweek.rename(columns={'click': 'impressions'})\n",
    "df_dayofweek['clicks'] = df_click[['day_of_week','click']].groupby(['day_of_week']).count().reset_index()['click']\n",
    "df_dayofweek['CTR'] = df_dayofweek['clicks']/df_dayofweek['impressions']*100\n",
    "plt.figure(figsize=(12,6))\n",
    "sns.barplot(y='CTR', x='day_of_week', data=df_dayofweek, order=['Monday', 'Tuesday', 'Wednesday', 'Thursday', 'Friday', 'Saturday', 'Sunday'])\n",
    "plt.title('Day of week CTR');"
   ]
  },
  {
   "cell_type": "markdown",
   "metadata": {},
   "source": [
    "As we can see from the plot that Tuesday and Wednesday have a least ctr compared to other week days."
   ]
  },
  {
   "cell_type": "code",
   "execution_count": 50,
   "metadata": {},
   "outputs": [
    {
     "data": {
      "image/png": "[encoded data removed]",
      "text/plain": [
       "<Figure size 864x432 with 1 Axes>"
      ]
     },
     "metadata": {},
     "output_type": "display_data"
    }
   ],
   "source": [
    "df_banner = data[['banner_pos','click']].groupby(['banner_pos']).count().reset_index()\n",
    "df_banner = df_banner.rename(columns={'click': 'impressions'})\n",
    "df_banner['clicks'] = df_click[['banner_pos','click']].groupby(['banner_pos']).count().reset_index()['click']\n",
    "df_banner['CTR'] = df_banner['clicks']/df_banner['impressions']*100\n",
    "sort_banners = df_banner.sort_values(by='CTR',ascending=False)['banner_pos'].tolist()\n",
    "plt.figure(figsize=(12,6))\n",
    "sns.barplot(y='CTR', x='banner_pos', data=df_banner, order=sort_banners)\n",
    "plt.title('CTR by banner position');"
   ]
  },
  {
   "cell_type": "code",
   "execution_count": 51,
   "metadata": {},
   "outputs": [
    {
     "data": {
      "text/html": [
       "<div>\n",
       "<style scoped>\n",
       "    .dataframe tbody tr th:only-of-type {\n",
       "        vertical-align: middle;\n",
       "    }\n",
       "\n",
       "    .dataframe tbody tr th {\n",
       "        vertical-align: top;\n",
       "    }\n",
       "\n",
       "    .dataframe thead th {\n",
       "        text-align: right;\n",
       "    }\n",
       "</style>\n",
       "<table border=\"1\" class=\"dataframe\">\n",
       "  <thead>\n",
       "    <tr style=\"text-align: right;\">\n",
       "      <th></th>\n",
       "      <th>device_type</th>\n",
       "      <th>click</th>\n",
       "      <th>impressions</th>\n",
       "      <th>CTR</th>\n",
       "    </tr>\n",
       "  </thead>\n",
       "  <tbody>\n",
       "    <tr>\n",
       "      <th>0</th>\n",
       "      <td>0</td>\n",
       "      <td>10834</td>\n",
       "      <td>50958</td>\n",
       "      <td>21.260646</td>\n",
       "    </tr>\n",
       "    <tr>\n",
       "      <th>1</th>\n",
       "      <td>1</td>\n",
       "      <td>130900</td>\n",
       "      <td>771785</td>\n",
       "      <td>16.960682</td>\n",
       "    </tr>\n",
       "    <tr>\n",
       "      <th>2</th>\n",
       "      <td>4</td>\n",
       "      <td>1654</td>\n",
       "      <td>17794</td>\n",
       "      <td>9.295268</td>\n",
       "    </tr>\n",
       "    <tr>\n",
       "      <th>3</th>\n",
       "      <td>5</td>\n",
       "      <td>236</td>\n",
       "      <td>2965</td>\n",
       "      <td>7.959528</td>\n",
       "    </tr>\n",
       "  </tbody>\n",
       "</table>\n",
       "</div>"
      ],
      "text/plain": [
       "   device_type   click  impressions        CTR\n",
       "0            0   10834        50958  21.260646\n",
       "1            1  130900       771785  16.960682\n",
       "2            4    1654        17794   9.295268\n",
       "3            5     236         2965   7.959528"
      ]
     },
     "execution_count": 51,
     "metadata": {},
     "output_type": "execute_result"
    }
   ],
   "source": [
    "device_type_click = df_click.groupby('device_type').agg({'click':'sum'}).reset_index()\n",
    "device_type_impression = data.groupby('device_type').agg({'click':'count'}).reset_index().rename(columns={'click': 'impressions'})\n",
    "merged_device_type = pd.merge(left = device_type_click , right = device_type_impression, how = 'inner', on = 'device_type')\n",
    "merged_device_type['CTR'] = merged_device_type['click'] / merged_device_type['impressions']*100\n",
    "merged_device_type"
   ]
  },
  {
   "cell_type": "markdown",
   "metadata": {},
   "source": [
    "# Data Pre-processing"
   ]
  },
  {
   "cell_type": "code",
   "execution_count": 10,
   "metadata": {},
   "outputs": [],
   "source": [
    "from sklearn.feature_extraction import FeatureHasher\n",
    "fh = FeatureHasher(n_features=50, input_type='string')\n",
    "from sklearn import preprocessing\n",
    "from sklearn.metrics import roc_auc_score\n",
    "from sklearn.preprocessing import OneHotEncoder, LabelEncoder"
   ]
  },
  {
   "cell_type": "markdown",
   "metadata": {},
   "source": [
    "All the categorical variables are converted into one hot encoders, \n",
    "Then feature hashing is performed to reduce the dimensions into a dense vector."
   ]
  },
  {
   "cell_type": "code",
   "execution_count": null,
   "metadata": {},
   "outputs": [],
   "source": [
    "train_fh = pd.DataFrame(fh.fit_transform(data[['site_id','site_domain','site_category',\n",
    "         'app_id','app_domain','app_category','device_id','device_ip'\n",
    "         ]].values).toarray())\n",
    "\n",
    "\n",
    "test_fh=pd.DataFrame(fh.fit_transform(test[['site_id','site_domain','site_category',\n",
    "         'app_id','app_domain','app_category','device_id','device_ip'\n",
    "         ]].values).toarray())"
   ]
  },
  {
   "cell_type": "code",
   "execution_count": 11,
   "metadata": {},
   "outputs": [],
   "source": [
    "\n",
    "ohe = OneHotEncoder()\n",
    "train_ohe = pd.DataFrame(ohe.fit_transform(\n",
    "                              data[['banner_pos','device_conn_type']]).toarray())\n",
    "\n",
    "test_ohe = pd.DataFrame(ohe.transform(\n",
    "                              test[['banner_pos','device_conn_type']]).toarray())\n",
    "\n"
   ]
  },
  {
   "cell_type": "code",
   "execution_count": 12,
   "metadata": {},
   "outputs": [],
   "source": [
    "train_ft=pd.concat([train_fh,train_ohe],axis=1)\n",
    "test_ft=pd.concat([test_fh,test_ohe],axis=1)"
   ]
  },
  {
   "cell_type": "code",
   "execution_count": null,
   "metadata": {},
   "outputs": [],
   "source": [
    "Y = data['click']"
   ]
  },
  {
   "cell_type": "markdown",
   "metadata": {},
   "source": [
    "# Data Splitting"
   ]
  },
  {
   "cell_type": "code",
   "execution_count": 18,
   "metadata": {},
   "outputs": [],
   "source": [
    "from sklearn.model_selection import train_test_split\n",
    "\n",
    "X_train, X_test, y_train, y_test = train_test_split(train_ft, Y, shuffle = True, random_state = 0)\n",
    "\n",
    "print(\"Number transactions X_train dataset: \", X_train.shape)\n",
    "print(\"Number transactions y_train dataset: \", y_train.shape)\n",
    "print(\"Number transactions X_test dataset: \", X_test.shape)\n",
    "print(\"Number transactions y_test dataset: \", y_test.shape)"
   ]
  },
  {
   "cell_type": "markdown",
   "metadata": {},
   "source": [
    "# Data Modelling"
   ]
  },
  {
   "cell_type": "markdown",
   "metadata": {},
   "source": [
    "# Logistic regression"
   ]
  },
  {
   "cell_type": "code",
   "execution_count": 82,
   "metadata": {},
   "outputs": [
    {
     "data": {
      "text/plain": [
       "LogisticRegression(C=1.0, class_weight=None, dual=False, fit_intercept=True,\n",
       "          intercept_scaling=1, max_iter=100, multi_class='ovr', n_jobs=1,\n",
       "          penalty='l2', random_state=None, solver='liblinear', tol=0.0001,\n",
       "          verbose=0, warm_start=False)"
      ]
     },
     "execution_count": 82,
     "metadata": {},
     "output_type": "execute_result"
    }
   ],
   "source": [
    "from sklearn.linear_model import LogisticRegression\n",
    "from sklearn import metrics\n",
    "logreg = LogisticRegression()\n",
    "logreg.fit(X_train, y_train)"
   ]
  },
  {
   "cell_type": "code",
   "execution_count": 83,
   "metadata": {},
   "outputs": [],
   "source": [
    "ypredl=logreg.predict(X_test)"
   ]
  },
  {
   "cell_type": "code",
   "execution_count": 84,
   "metadata": {},
   "outputs": [
    {
     "data": {
      "text/plain": [
       "0.500251354570748"
      ]
     },
     "execution_count": 84,
     "metadata": {},
     "output_type": "execute_result"
    }
   ],
   "source": [
    "confusion_matrix(y_test,ypredl)\n",
    "roc_auc_score(y_test,ypredl)"
   ]
  },
  {
   "cell_type": "markdown",
   "metadata": {},
   "source": [
    "# RandomForest Classifier"
   ]
  },
  {
   "cell_type": "code",
   "execution_count": null,
   "metadata": {},
   "outputs": [],
   "source": [
    "from sklearn.metrics import roc_auc_score\n",
    "from sklearn.ensemble import RandomForestClassifier\n",
    "from sklearn.metrics import confusion_matrix"
   ]
  },
  {
   "cell_type": "code",
   "execution_count": 52,
   "metadata": {},
   "outputs": [],
   "source": [
    "#from dask.diagnostics import ProgressBar\n",
    "\n",
    "clf = RandomForestClassifier(n_estimators=15, max_depth=20,\n",
    "                         random_state=0)\n",
    "clf.fit(X_train,y_train)\n",
    "ypredrf=clf.predict(X_test)"
   ]
  },
  {
   "cell_type": "code",
   "execution_count": 53,
   "metadata": {},
   "outputs": [],
   "source": [
    "roc_auc_score(y_test,ypred)"
   ]
  },
  {
   "cell_type": "markdown",
   "metadata": {},
   "source": [
    "# Gradient boosting classifier"
   ]
  },
  {
   "cell_type": "code",
   "execution_count": 72,
   "metadata": {},
   "outputs": [],
   "source": [
    "\n",
    "\n",
    "from  sklearn.ensemble import GradientBoostingClassifier\n",
    "\n",
    "gbrt = GradientBoostingClassifier(n_estimators=20,max_depth=5,learning_rate=0.5,random_state=0)"
   ]
  },
  {
   "cell_type": "code",
   "execution_count": 73,
   "metadata": {},
   "outputs": [
    {
     "data": {
      "text/plain": [
       "GradientBoostingClassifier(criterion='friedman_mse', init=None,\n",
       "              learning_rate=0.5, loss='deviance', max_depth=5,\n",
       "              max_features=None, max_leaf_nodes=None,\n",
       "              min_impurity_decrease=0.0, min_impurity_split=None,\n",
       "              min_samples_leaf=1, min_samples_split=2,\n",
       "              min_weight_fraction_leaf=0.0, n_estimators=20,\n",
       "              presort='auto', random_state=0, subsample=1.0, verbose=0,\n",
       "              warm_start=False)"
      ]
     },
     "execution_count": 73,
     "metadata": {},
     "output_type": "execute_result"
    }
   ],
   "source": [
    "gbrt.fit(X_train,y_train)\n"
   ]
  },
  {
   "cell_type": "code",
   "execution_count": 77,
   "metadata": {},
   "outputs": [],
   "source": [
    "ypredgb=gbrt.predict(X_test)"
   ]
  },
  {
   "cell_type": "code",
   "execution_count": 79,
   "metadata": {},
   "outputs": [
    {
     "data": {
      "text/plain": [
       "0.509915015552471"
      ]
     },
     "execution_count": 79,
     "metadata": {},
     "output_type": "execute_result"
    }
   ],
   "source": [
    "roc_auc_score(y_test,ypredgb)"
   ]
  },
  {
   "cell_type": "markdown",
   "metadata": {},
   "source": [
    "Out of all the models the best model is Gradient boosting Classifier from the auc_roc metric. \n"
   ]
  },
  {
   "cell_type": "code",
   "execution_count": 88,
   "metadata": {},
   "outputs": [],
   "source": [
    "# write predictions using gradient boosting model\n",
    "\n",
    "predictions=pd.DataFrame(gbrt.predict_proba(test_ft))"
   ]
  },
  {
   "cell_type": "code",
   "execution_count": 92,
   "metadata": {},
   "outputs": [],
   "source": [
    "\n",
    "preddf=pd.concat([test['id'],predictions],axis=1)"
   ]
  },
  {
   "cell_type": "code",
   "execution_count": 93,
   "metadata": {},
   "outputs": [],
   "source": [
    "preddf.to_csv('./Predictions.csv', sep=',', encoding='utf-8')"
   ]
  },
  {
   "cell_type": "code",
   "execution_count": null,
   "metadata": {},
   "outputs": [],
   "source": []
  }
 ],
 "metadata": {
  "kernelspec": {
   "display_name": "Python 3",
   "language": "python",
   "name": "python3"
  },
  "language_info": {
   "codemirror_mode": {
    "name": "ipython",
    "version": 3
   },
   "file_extension": ".py",
   "mimetype": "text/x-python",
   "name": "python",
   "nbconvert_exporter": "python",
   "pygments_lexer": "ipython3",
   "version": "3.6.5"
  }
 },
 "nbformat": 4,
 "nbformat_minor": 2
}
